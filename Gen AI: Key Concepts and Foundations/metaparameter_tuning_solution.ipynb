{
  "cells": [
    {
      "cell_type": "markdown",
      "metadata": {
        "id": "OIwXapS9KLOY"
      },
      "source": [
        "# Metaparameter Tuning: Controlling LLM's Behaviour\n",
        "\n",
        "### Below you're given a few tasks, tweak the relevant metaparameters in such a way that it enables the model to generate desired output."
      ]
    },
    {
      "cell_type": "markdown",
      "metadata": {
        "id": "6C3Szk8VKLOf"
      },
      "source": [
        "Import the transformers library and relevant modules to run the model locally"
      ]
    },
    {
      "cell_type": "code",
      "execution_count": null,
      "metadata": {
        "id": "lX9ES3CLKLOg"
      },
      "outputs": [],
      "source": [
        "from transformers import pipeline\n",
        "import warnings\n",
        "warnings.filterwarnings('ignore')\n",
        "\n",
        "generator = pipeline('text-generation', model='meta-llama/Llama-3.2-1B-Instruct')"
      ]
    },
    {
      "cell_type": "markdown",
      "metadata": {
        "id": "ov_sYvHQKLOk"
      },
      "source": [
        "**Task 1**\n",
        "\n",
        "Below we are using llama to generate a story, but as you can see the output is getting cut-off in between before the story is complete. Tune the metaparameters in such a way that the model is able to generate the full story."
      ]
    },
    {
      "cell_type": "code",
      "execution_count": null,
      "metadata": {
        "id": "0N61ljJlKLOl",
        "outputId": "10d10a19-6a9d-4be3-e6c1-2d256236ef86"
      },
      "outputs": [
        {
          "name": "stdout",
          "output_type": "stream",
          "text": [
            "It was a typical summer day in New York City for 12-year-old Timmy Jenkins. He had just finished his homework and was heading out to grab a slice of pizza with his friends at the local pizzeria. As he walked down the street, he noticed a small, peculiar-looking spider crawling across the sidewalk.\n",
            "\n",
            "Intrigued by the spider's unusual appearance, Timmy reached down to pick it up. But before he could even touch its legs, the spider suddenly bit him on\n"
          ]
        }
      ],
      "source": [
        "response = generator(\"Write a 500 word story about a boy who gained superpowers by being bitten by a radioactive spider.\",\n",
        "                     max_length=1024,\n",
        "                     num_return_sequences=1)\n",
        "print(response)"
      ]
    },
    {
      "cell_type": "markdown",
      "metadata": {
        "id": "d8PHkMALKLOo"
      },
      "source": [
        "**Task 2**\n",
        "\n",
        "Awesome, now that we're able to generate the whole story, change the relevant metaparameter to make the story more creative."
      ]
    },
    {
      "cell_type": "code",
      "execution_count": null,
      "metadata": {
        "id": "C7qwxSzlKLOq"
      },
      "outputs": [],
      "source": [
        "response = generator(\"Write a 500 word story about a boy who gained superpowers by being bitten by a radioactive spider.\",\n",
        "                     max_length=1024,\n",
        "                     temperature = 0.9,\n",
        "                     num_return_sequences=1)\n",
        "print(response)"
      ]
    },
    {
      "cell_type": "markdown",
      "metadata": {
        "id": "Yq1qPvr3KLOs"
      },
      "source": [
        "**Task 3**\n",
        "\n",
        "Refer to the lectures and explore what other options (or metaparameters) we can use to control the behaviour of LLMs."
      ]
    },
    {
      "cell_type": "code",
      "execution_count": null,
      "metadata": {
        "id": "QLVFyIZJKLOs"
      },
      "outputs": [],
      "source": [
        "response = generator(\"Write a 500 word story about a boy who gained superpowers by being bitten by a radioactive spider.\",\n",
        "                     max_length=1024,\n",
        "                     temperature = 0.9,\n",
        "                     top_k = 50,\n",
        "                     top_p = 0.95,\n",
        "                     num_return_sequences=1)\n",
        "print(response)"
      ]
    }
  ],
  "metadata": {
    "colab": {
      "provenance": []
    },
    "kernelspec": {
      "display_name": ".venv",
      "language": "python",
      "name": "python3"
    },
    "language_info": {
      "codemirror_mode": {
        "name": "ipython",
        "version": 3
      },
      "file_extension": ".py",
      "mimetype": "text/x-python",
      "name": "python",
      "nbconvert_exporter": "python",
      "pygments_lexer": "ipython3",
      "version": "3.11.9"
    }
  },
  "nbformat": 4,
  "nbformat_minor": 0
}
