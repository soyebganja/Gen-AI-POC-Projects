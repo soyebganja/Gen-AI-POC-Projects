{
 "cells": [
  {
   "cell_type": "code",
   "execution_count": 49,
   "metadata": {},
   "outputs": [
    {
     "data": {
      "text/plain": [
       "AIMessage(content=' Neil Armstrong and Edwin \"Buzz\" Aldrin were the first two humans to', additional_kwargs={}, response_metadata={'model': 'llama3.2:1b', 'created_at': '2025-06-26T13:24:40.954716821Z', 'done': True, 'done_reason': 'length', 'total_duration': 1509435519, 'load_duration': 33533732, 'prompt_eval_count': 33, 'prompt_eval_duration': 90749751, 'eval_count': 15, 'eval_duration': 1384492685, 'model_name': 'llama3.2:1b'}, id='run--1efd6e69-4cbb-49f3-a1c8-2ed9f06ffdd8-0', usage_metadata={'input_tokens': 33, 'output_tokens': 15, 'total_tokens': 48})"
      ]
     },
     "execution_count": 49,
     "metadata": {},
     "output_type": "execute_result"
    }
   ],
   "source": [
    "from langchain_ollama import ChatOllama\n",
    "\n",
    "llm = ChatOllama(model=\"llama3.2:1b\", temperature=1.8, num_predict=15)\n",
    "\n",
    "llm.invoke(\"The first person to go to moon was\")"
   ]
  },
  {
   "cell_type": "code",
   "execution_count": 39,
   "metadata": {},
   "outputs": [
    {
     "name": "stdout",
     "output_type": "stream",
     "text": [
      "Requirement already satisfied: langchain-groq in /home/nurul/ollama-env/lib/python3.11/site-packages (0.3.4)\n",
      "Requirement already satisfied: langchain-core<1.0.0,>=0.3.66 in /home/nurul/ollama-env/lib/python3.11/site-packages (from langchain-groq) (0.3.66)\n",
      "Requirement already satisfied: groq<1,>=0.28.0 in /home/nurul/ollama-env/lib/python3.11/site-packages (from langchain-groq) (0.29.0)\n",
      "Requirement already satisfied: anyio<5,>=3.5.0 in /home/nurul/ollama-env/lib/python3.11/site-packages (from groq<1,>=0.28.0->langchain-groq) (4.9.0)\n",
      "Requirement already satisfied: distro<2,>=1.7.0 in /home/nurul/ollama-env/lib/python3.11/site-packages (from groq<1,>=0.28.0->langchain-groq) (1.9.0)\n",
      "Requirement already satisfied: httpx<1,>=0.23.0 in /home/nurul/ollama-env/lib/python3.11/site-packages (from groq<1,>=0.28.0->langchain-groq) (0.28.1)\n",
      "Requirement already satisfied: pydantic<3,>=1.9.0 in /home/nurul/ollama-env/lib/python3.11/site-packages (from groq<1,>=0.28.0->langchain-groq) (2.11.7)\n",
      "Requirement already satisfied: sniffio in /home/nurul/ollama-env/lib/python3.11/site-packages (from groq<1,>=0.28.0->langchain-groq) (1.3.1)\n",
      "Requirement already satisfied: typing-extensions<5,>=4.10 in /home/nurul/ollama-env/lib/python3.11/site-packages (from groq<1,>=0.28.0->langchain-groq) (4.14.0)\n",
      "Requirement already satisfied: idna>=2.8 in /home/nurul/ollama-env/lib/python3.11/site-packages (from anyio<5,>=3.5.0->groq<1,>=0.28.0->langchain-groq) (3.10)\n",
      "Requirement already satisfied: certifi in /home/nurul/ollama-env/lib/python3.11/site-packages (from httpx<1,>=0.23.0->groq<1,>=0.28.0->langchain-groq) (2025.6.15)\n",
      "Requirement already satisfied: httpcore==1.* in /home/nurul/ollama-env/lib/python3.11/site-packages (from httpx<1,>=0.23.0->groq<1,>=0.28.0->langchain-groq) (1.0.9)\n",
      "Requirement already satisfied: h11>=0.16 in /home/nurul/ollama-env/lib/python3.11/site-packages (from httpcore==1.*->httpx<1,>=0.23.0->groq<1,>=0.28.0->langchain-groq) (0.16.0)\n",
      "Requirement already satisfied: langsmith>=0.3.45 in /home/nurul/ollama-env/lib/python3.11/site-packages (from langchain-core<1.0.0,>=0.3.66->langchain-groq) (0.4.1)\n",
      "Requirement already satisfied: tenacity!=8.4.0,<10.0.0,>=8.1.0 in /home/nurul/ollama-env/lib/python3.11/site-packages (from langchain-core<1.0.0,>=0.3.66->langchain-groq) (9.1.2)\n",
      "Requirement already satisfied: jsonpatch<2.0,>=1.33 in /home/nurul/ollama-env/lib/python3.11/site-packages (from langchain-core<1.0.0,>=0.3.66->langchain-groq) (1.33)\n",
      "Requirement already satisfied: PyYAML>=5.3 in /home/nurul/ollama-env/lib/python3.11/site-packages (from langchain-core<1.0.0,>=0.3.66->langchain-groq) (6.0.2)\n",
      "Requirement already satisfied: packaging<25,>=23.2 in /home/nurul/ollama-env/lib/python3.11/site-packages (from langchain-core<1.0.0,>=0.3.66->langchain-groq) (24.2)\n",
      "Requirement already satisfied: jsonpointer>=1.9 in /home/nurul/ollama-env/lib/python3.11/site-packages (from jsonpatch<2.0,>=1.33->langchain-core<1.0.0,>=0.3.66->langchain-groq) (3.0.0)\n",
      "Requirement already satisfied: annotated-types>=0.6.0 in /home/nurul/ollama-env/lib/python3.11/site-packages (from pydantic<3,>=1.9.0->groq<1,>=0.28.0->langchain-groq) (0.7.0)\n",
      "Requirement already satisfied: pydantic-core==2.33.2 in /home/nurul/ollama-env/lib/python3.11/site-packages (from pydantic<3,>=1.9.0->groq<1,>=0.28.0->langchain-groq) (2.33.2)\n",
      "Requirement already satisfied: typing-inspection>=0.4.0 in /home/nurul/ollama-env/lib/python3.11/site-packages (from pydantic<3,>=1.9.0->groq<1,>=0.28.0->langchain-groq) (0.4.1)\n",
      "Requirement already satisfied: orjson<4.0.0,>=3.9.14 in /home/nurul/ollama-env/lib/python3.11/site-packages (from langsmith>=0.3.45->langchain-core<1.0.0,>=0.3.66->langchain-groq) (3.10.18)\n",
      "Requirement already satisfied: requests<3,>=2 in /home/nurul/ollama-env/lib/python3.11/site-packages (from langsmith>=0.3.45->langchain-core<1.0.0,>=0.3.66->langchain-groq) (2.32.4)\n",
      "Requirement already satisfied: requests-toolbelt<2.0.0,>=1.0.0 in /home/nurul/ollama-env/lib/python3.11/site-packages (from langsmith>=0.3.45->langchain-core<1.0.0,>=0.3.66->langchain-groq) (1.0.0)\n",
      "Requirement already satisfied: zstandard<0.24.0,>=0.23.0 in /home/nurul/ollama-env/lib/python3.11/site-packages (from langsmith>=0.3.45->langchain-core<1.0.0,>=0.3.66->langchain-groq) (0.23.0)\n",
      "Requirement already satisfied: charset_normalizer<4,>=2 in /home/nurul/ollama-env/lib/python3.11/site-packages (from requests<3,>=2->langsmith>=0.3.45->langchain-core<1.0.0,>=0.3.66->langchain-groq) (3.4.2)\n",
      "Requirement already satisfied: urllib3<3,>=1.21.1 in /home/nurul/ollama-env/lib/python3.11/site-packages (from requests<3,>=2->langsmith>=0.3.45->langchain-core<1.0.0,>=0.3.66->langchain-groq) (2.5.0)\n"
     ]
    }
   ],
   "source": [
    "! /home/nurul/ollama-env/bin/python -m pip install langchain-groq"
   ]
  },
  {
   "cell_type": "code",
   "execution_count": 40,
   "metadata": {},
   "outputs": [
    {
     "name": "stdout",
     "output_type": "stream",
     "text": [
      "Requirement already satisfied: python-dotenv in /home/nurul/ollama-env/lib/python3.11/site-packages (1.1.1)\r\n"
     ]
    }
   ],
   "source": [
    "! /home/nurul/ollama-env/bin/python -m pip install python-dotenv"
   ]
  },
  {
   "cell_type": "code",
   "execution_count": 41,
   "metadata": {},
   "outputs": [
    {
     "data": {
      "text/plain": [
       "True"
      ]
     },
     "execution_count": 41,
     "metadata": {},
     "output_type": "execute_result"
    }
   ],
   "source": [
    "from dotenv import load_dotenv\n",
    "\n",
    "load_dotenv()"
   ]
  },
  {
   "cell_type": "code",
   "execution_count": 50,
   "metadata": {},
   "outputs": [
    {
     "name": "stdout",
     "output_type": "stream",
     "text": [
      "content='The first person to walk on the moon was Neil Armstrong. He stepped out' additional_kwargs={} response_metadata={'token_usage': {'completion_tokens': 15, 'prompt_tokens': 21, 'total_tokens': 36, 'completion_time': 0.016374306, 'prompt_time': 0.006297747, 'queue_time': 0.268729303, 'total_time': 0.022672053}, 'model_name': 'llama3-8b-8192', 'system_fingerprint': 'fp_8af39bf2ae', 'finish_reason': 'length', 'logprobs': None} id='run--b237d291-1054-402c-8766-e7230ee91074-0' usage_metadata={'input_tokens': 21, 'output_tokens': 15, 'total_tokens': 36}\n"
     ]
    }
   ],
   "source": [
    "import os\n",
    "api_key = os.getenv(\"GROQ_API_KEY\")\n",
    "\n",
    "from langchain_groq import ChatGroq\n",
    "\n",
    "llm = ChatGroq(model=\"llama3-8b-8192\", max_tokens=15, temperature=0.2)  # ✅ Supported model\n",
    "response = llm.invoke(\"Who was the first person to walk on the moon?\")\n",
    "print(response)"
   ]
  },
  {
   "cell_type": "code",
   "execution_count": 69,
   "metadata": {},
   "outputs": [],
   "source": [
    "from langchain_core.prompts import PromptTemplate\n",
    "\n",
    "pt = PromptTemplate.from_template(\"Write two line poeam on love between {topic1} and {topic2}\")"
   ]
  },
  {
   "cell_type": "code",
   "execution_count": 70,
   "metadata": {},
   "outputs": [],
   "source": [
    "llm = ChatGroq(model=\"llama-3.3-70b-versatile\")"
   ]
  },
  {
   "cell_type": "code",
   "execution_count": 71,
   "metadata": {},
   "outputs": [
    {
     "data": {
      "text/plain": [
       "\"As whiskers touch and tails entwine, a unlikely love does shine between the cat and dog so divine. Together they'll cuddle, play, and sleep, a beautiful friendship that love does keep.\""
      ]
     },
     "execution_count": 71,
     "metadata": {},
     "output_type": "execute_result"
    }
   ],
   "source": [
    "chain = pt | llm\n",
    "\n",
    "response = chain.invoke({\"topic1\": \"cat\", \"topic2\": \"dog\"})\n",
    "response.content"
   ]
  },
  {
   "cell_type": "code",
   "execution_count": null,
   "metadata": {},
   "outputs": [],
   "source": []
  }
 ],
 "metadata": {
  "kernelspec": {
   "display_name": "Python 3.11 (Ollama)",
   "language": "python",
   "name": "ollama-env"
  },
  "language_info": {
   "codemirror_mode": {
    "name": "ipython",
    "version": 3
   },
   "file_extension": ".py",
   "mimetype": "text/x-python",
   "name": "python",
   "nbconvert_exporter": "python",
   "pygments_lexer": "ipython3",
   "version": "3.11.13"
  }
 },
 "nbformat": 4,
 "nbformat_minor": 4
}
